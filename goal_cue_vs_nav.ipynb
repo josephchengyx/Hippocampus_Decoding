{
 "cells": [
  {
   "cell_type": "code",
   "execution_count": 1,
   "metadata": {},
   "outputs": [],
   "source": [
    "import os\n",
    "import numpy as np\n",
    "from scipy.io import loadmat\n",
    "import h5py\n",
    "from preproc import *\n",
    "from priordist import PriorDistributionCell"
   ]
  },
  {
   "cell_type": "code",
   "execution_count": 2,
   "metadata": {},
   "outputs": [],
   "source": [
    "# Specify which day's dataset to use\n",
    "prefix = \"/Volumes/Hippocampus/Data/picasso-misc/\"\n",
    "day_dir = \"20181102\""
   ]
  },
  {
   "cell_type": "code",
   "execution_count": 3,
   "metadata": {},
   "outputs": [],
   "source": [
    "# Get list of cells under the day directory\n",
    "os.system(f\"sh ~/Documents/neural_decoding/Hippocampus_Decoding/get_cells.sh {day_dir}\")\n",
    "cell_list = list()\n",
    "with open(\"cell_list.txt\", \"r\") as file:\n",
    "    for line in file.readlines():\n",
    "        cell_list.append(line.strip())\n",
    "os.system(\"rm cell_list.txt\")\n",
    "\n",
    "# Load data from rplparallel.mat object, extract trial markers, time stamps and session start timestamp\n",
    "rp = h5py.File(prefix + day_dir + \"/session01/rplparallel.mat\")\n",
    "rp = rp.get('rp').get('data')\n",
    "trial_markers = np.array(rp.get('markers'))\n",
    "trial_timestamps = np.array(rp.get('timeStamps'))\n",
    "session_start_time = np.round(np.array(rp.get('session_start_sec'))[0,0], 3)\n",
    "\n",
    "# Load data and extract spike times from all spiketrain.mat objects\n",
    "spike_times = list()\n",
    "cell_labels = list()\n",
    "for cell_dir in cell_list:\n",
    "    spk = loadmat(prefix + day_dir + \"/session01/\" + cell_dir + \"/spiketrain.mat\")\n",
    "    spk = spk.get('timestamps').flatten() # spike timestamps is loaded in as a column vector\n",
    "    spk = spk / 1000 # convert spike timestamps from msec to sec\n",
    "    spike_times.append(spk)\n",
    "    \n",
    "    cell_name = cell_dir.split('/')\n",
    "    array, channel, cell = cell_name[0][6:], cell_name[1][7:], cell_name[2][5:]\n",
    "    if channel[0] == '0':\n",
    "        channel = channel[1:]\n",
    "    cell_labels.append(f'a{array}/ch{channel}/c{cell}')\n",
    "\n",
    "# Load data from vmpv.mat object, extract session end timestamp\n",
    "pv = h5py.File(prefix + day_dir + \"/session01/1vmpv.mat\")\n",
    "pv = pv.get('pv').get('data')\n",
    "session_end_time = np.round(np.array(pv.get('rplmaxtime'))[0,0], 3)"
   ]
  },
  {
   "cell_type": "code",
   "execution_count": 4,
   "metadata": {},
   "outputs": [
    {
     "name": "stdout",
     "output_type": "stream",
     "text": [
      "{3: 400, 4: 41}\n"
     ]
    }
   ],
   "source": [
    "# Check outcomes of each trial\n",
    "trial_outcomes = np.array(rp.get('markers'))\n",
    "trial_outcomes = trial_outcomes[2,:] // 10\n",
    "trial_outcomes = trial_outcomes.astype(int)\n",
    "\n",
    "# Get frequencies of trial outcomes\n",
    "trial_outcomes_freq = dict()\n",
    "for trial in trial_outcomes:\n",
    "    if trial not in trial_outcomes_freq:\n",
    "        trial_outcomes_freq[trial] = 1\n",
    "    else:\n",
    "        trial_outcomes_freq[trial] += 1\n",
    "\n",
    "print(trial_outcomes_freq)\n"
   ]
  },
  {
   "cell_type": "code",
   "execution_count": 5,
   "metadata": {},
   "outputs": [],
   "source": [
    "# Get poster numbers from trial markers, cue phase time intervals\n",
    "trial_markers = trial_markers[0,:] % 10\n",
    "trial_markers = trial_markers.astype(int)\n",
    "cue_intervals = trial_timestamps[0:2,:].T"
   ]
  },
  {
   "cell_type": "code",
   "execution_count": 6,
   "metadata": {},
   "outputs": [],
   "source": [
    "# Get time intervals for navigation phases\n",
    "nav_timestamps = trial_timestamps[1:,:].T\n",
    "\n",
    "# Bin navigation phases into 1-second time bins\n",
    "nav_intervals = list()\n",
    "delta = 1  # Size of time bin (in seconds)\n",
    "for idx, intvl in enumerate(nav_timestamps):\n",
    "    nav_start, nav_end = intvl\n",
    "    nav_intervals.append(np.vstack((np.arange(nav_start, nav_end - delta, delta), np.arange(nav_start + delta, nav_end, delta))).T)"
   ]
  },
  {
   "cell_type": "code",
   "execution_count": 7,
   "metadata": {},
   "outputs": [],
   "source": [
    "# Generate time intervals for each trial\n",
    "trial_intervals = np.empty_like(cue_intervals)\n",
    "trial_intervals[:,0] = cue_intervals[:,1]\n",
    "trial_intervals[:-1,1] = cue_intervals[1:,0]\n",
    "trial_intervals[-1,1] = session_end_time"
   ]
  },
  {
   "cell_type": "code",
   "execution_count": 8,
   "metadata": {},
   "outputs": [],
   "source": [
    "# Check number of time bins per trial\n",
    "timebins_per_nav_phase = np.array(list(map(lambda arr: arr.shape[0], nav_intervals)))\n",
    "\n",
    "# Filter out trials that are too long (> 25 seconds) or have repeated goal from previous trial\n",
    "good_trials = np.ones(timebins_per_nav_phase.shape, dtype=np.int8)\n",
    "min_dur, max_dur = 2, 25  # minimum and maximum duration of trials (in seconds) to filter out\n",
    "\n",
    "prev_goal = 0\n",
    "for num, dur in enumerate(timebins_per_nav_phase):\n",
    "    curr_goal = trial_markers[num]\n",
    "    if dur > max_dur or curr_goal == prev_goal:\n",
    "        good_trials[num] = 0\n",
    "    prev_goal = curr_goal\n",
    "# for num, dur in enumerate(timebins_per_nav_phase):\n",
    "#     if dur < min_dur or dur > max_dur:\n",
    "#         good_trials[num] = 0\n",
    "\n",
    "trial_filt = np.where(good_trials == 1)\n",
    "\n",
    "trial_markers = trial_markers[trial_filt]\n",
    "cue_intervals = cue_intervals[trial_filt,:][0]  # not sure why it adds an extra axis\n",
    "new_nav_intervals = list()\n",
    "for num, trial in enumerate(nav_intervals):\n",
    "    if good_trials[num] == 1:\n",
    "        new_nav_intervals.append(trial)\n",
    "nav_intervals = new_nav_intervals\n",
    "timebins_per_nav_phase = timebins_per_nav_phase[trial_filt]\n",
    "trial_intervals = trial_intervals[trial_filt]"
   ]
  },
  {
   "cell_type": "code",
   "execution_count": 9,
   "metadata": {},
   "outputs": [],
   "source": [
    "# # Pool cue phase and navigation phase intervals together to get session intervals\n",
    "# session_intervals = list()\n",
    "# for num, nav_phase in enumerate(nav_intervals):\n",
    "#     session_intervals.append(cue_intervals[num])\n",
    "#     for intvl in nav_phase:\n",
    "#         session_intervals.append(intvl)\n",
    "# session_intervals = np.array(session_intervals)\n",
    "\n",
    "# Bin entire session into 1-second time bins, aligned to the end of each cue phase for each trial\n",
    "session_intervals = list()\n",
    "for idx, intvl in enumerate(trial_intervals):\n",
    "    session_intervals.append(cue_intervals[idx,:])\n",
    "    nav_start, nav_end = intvl\n",
    "    for time in np.arange(nav_start, nav_end - 1, 1):\n",
    "        session_intervals.append(np.array([time, time + 1]))\n",
    "session_intervals = np.array(session_intervals)"
   ]
  },
  {
   "cell_type": "code",
   "execution_count": 10,
   "metadata": {},
   "outputs": [],
   "source": [
    "# Slot spikes into cue phase intervals\n",
    "spikecounts_cue = spike_counts_per_observation(cue_intervals, spike_times)\n",
    "\n",
    "# Slot spikes into navigation phase intervals\n",
    "spikecounts_nav = list()\n",
    "for phase in nav_intervals:\n",
    "    spikecounts_nav.append(spike_counts_per_observation(phase, spike_times))\n",
    "\n",
    "# Slot spikes into session time intervals\n",
    "spikecounts_session = spike_counts_per_observation(session_intervals, spike_times)"
   ]
  },
  {
   "cell_type": "code",
   "execution_count": 11,
   "metadata": {},
   "outputs": [],
   "source": [
    "# Bin spike counts within each cell for entire sesion, and get firing rate thresholds used for binning\n",
    "binned_spikes_session = np.empty_like(spikecounts_session)\n",
    "binning_stats = list()\n",
    "for col in range(spikecounts_session.shape[1]):\n",
    "    binned_spikes_session[:,col] = bin_firing_rates_4(spikecounts_session[:,col])\n",
    "    binning_stats.append(get_binning_stats_4(spikecounts_session[:,col]))\n",
    "\n",
    "# Bin spike counts within each cell for cue phases\n",
    "binned_spikes_cue = np.empty_like(spikecounts_cue)\n",
    "for col in range(spikecounts_cue.shape[1]):\n",
    "    binned_spikes_cue[:,col] = bin_firing_rates_4(spikecounts_cue[:,col], stats=binning_stats[col])"
   ]
  },
  {
   "cell_type": "code",
   "execution_count": 12,
   "metadata": {},
   "outputs": [
    {
     "data": {
      "image/png": "[encoded data removed]",
      "text/plain": [
       "<Figure size 640x480 with 1 Axes>"
      ]
     },
     "metadata": {},
     "output_type": "display_data"
    }
   ],
   "source": [
    "# Check number of time bins per trial\n",
    "timebins_per_nav_phase = np.array(list(map(lambda arr: arr.shape[0], nav_intervals)))\n",
    "\n",
    "# Plot distribution of trial durations\n",
    "import matplotlib.pyplot as plt\n",
    "\n",
    "plt.figure()\n",
    "plt.title('Trial Durations')\n",
    "plt.hist(timebins_per_nav_phase, bins=25)\n",
    "plt.show()"
   ]
  },
  {
   "cell_type": "code",
   "execution_count": 13,
   "metadata": {},
   "outputs": [
    {
     "name": "stdout",
     "output_type": "stream",
     "text": [
      "Percentage of trials longer than __ seconds (sample size: 400):\n",
      "25%: 12.0, 50%: 8.5, 75%: 6.0, min: 2\n"
     ]
    }
   ],
   "source": [
    "# Get quantiles of trial duration distribution\n",
    "trial_dur_25 = np.percentile(timebins_per_nav_phase, 25)\n",
    "trial_dur_50 = np.median(timebins_per_nav_phase)\n",
    "trial_dur_75 = np.percentile(timebins_per_nav_phase, 75)\n",
    "trial_dur_min = min(timebins_per_nav_phase)\n",
    "\n",
    "print(f'Percentage of trials longer than __ seconds (sample size: {timebins_per_nav_phase.shape[0]}):')\n",
    "print(f'25%: {trial_dur_75}, 50%: {trial_dur_50}, 75%: {trial_dur_25}, min: {trial_dur_min}')"
   ]
  },
  {
   "cell_type": "code",
   "execution_count": 14,
   "metadata": {},
   "outputs": [],
   "source": [
    "# Filter out trials with navigation phases less than time_diff seconds\n",
    "time_diff = 5  # Seconds after end of cue phase to sampled nav phase time bin\n",
    "filt = np.where(timebins_per_nav_phase >= time_diff)\n",
    "\n",
    "trial_markers_filt = trial_markers[filt]\n",
    "spikecounts_nav = list(filter(lambda arr: arr.shape[0] >= time_diff, spikecounts_nav))"
   ]
  },
  {
   "cell_type": "code",
   "execution_count": 15,
   "metadata": {},
   "outputs": [],
   "source": [
    "# Select time bin time_diff seconds after cue phase for each navigation phase\n",
    "spikecounts_nav = np.array(list(map(lambda arr: arr[time_diff-1,:], spikecounts_nav)))\n",
    "\n",
    "# Bin spike counts within each cell for navigation phases\n",
    "binned_spikes_nav = np.empty_like(spikecounts_nav)\n",
    "for col in range(spikecounts_nav.shape[1]):\n",
    "    binned_spikes_nav[:,col] = bin_firing_rates_4(spikecounts_nav[:,col], stats=binning_stats[col])"
   ]
  },
  {
   "cell_type": "code",
   "execution_count": 16,
   "metadata": {},
   "outputs": [],
   "source": [
    "def group_by_goal(timeseries: np.array, goals: np.array) -> list:\n",
    "    num_goals = 6\n",
    "    grouped = [np.empty((0, timeseries.shape[1])) for _ in range(num_goals)]\n",
    "    for idx, goal in enumerate(goals):\n",
    "        goal = int(goal - 1)\n",
    "        grouped[goal] = np.vstack((grouped[goal], timeseries[idx,:]))\n",
    "    return grouped"
   ]
  },
  {
   "cell_type": "code",
   "execution_count": 17,
   "metadata": {},
   "outputs": [],
   "source": [
    "# Group cue phase spikes according to goal\n",
    "responses_per_goal_cue = group_by_goal(binned_spikes_cue, trial_markers)\n",
    "responses_per_goal_nav = group_by_goal(binned_spikes_nav, trial_markers_filt)\n",
    "\n",
    "# Get distribution of population responses for cue phase vs entire session\n",
    "response_distribution_cue = PriorDistributionCell(binned_spikes_session, responses_per_goal_cue)\n",
    "\n",
    "# Get dirstribution of population responses for navigation phase vs entire session\n",
    "response_distribution_nav = PriorDistributionCell(binned_spikes_session, responses_per_goal_nav)"
   ]
  },
  {
   "cell_type": "code",
   "execution_count": 18,
   "metadata": {},
   "outputs": [],
   "source": [
    "# Some important constants\n",
    "num_goals = 6\n",
    "num_cells = len(cell_list)\n",
    "num_cats = 4\n",
    "\n",
    "constants = (num_goals, num_cells, num_cats)"
   ]
  },
  {
   "cell_type": "code",
   "execution_count": 19,
   "metadata": {},
   "outputs": [
    {
     "name": "stdout",
     "output_type": "stream",
     "text": [
      "2.573664397104504\n"
     ]
    }
   ],
   "source": [
    "# Shannon entropy across goals\n",
    "goal_entropy = 0\n",
    "for goal in range(num_goals):\n",
    "    P_s = response_distribution_cue.P_s(goal)\n",
    "    goal_entropy -= P_s * np.log2(P_s)\n",
    "\n",
    "print(goal_entropy)"
   ]
  },
  {
   "cell_type": "code",
   "execution_count": 20,
   "metadata": {},
   "outputs": [
    {
     "data": {
      "text/plain": [
       "2.584962500721156"
      ]
     },
     "execution_count": 20,
     "metadata": {},
     "output_type": "execute_result"
    }
   ],
   "source": [
    "np.log2(6)"
   ]
  },
  {
   "cell_type": "code",
   "execution_count": 21,
   "metadata": {},
   "outputs": [],
   "source": [
    "def information_gain(response_dist: PriorDistributionCell, constants: tuple) -> np.array:\n",
    "    num_goals, num_cells, num_cats = constants\n",
    "    info_gain = np.zeros((num_goals, num_cells))\n",
    "    for goal in range(num_goals):\n",
    "        for cell in range(num_cells):\n",
    "            for cat in range(num_cats):\n",
    "                P_r_s = response_dist.P_r_s(cell, cat, goal)\n",
    "                P_r = response_dist.P_r(cell, cat)\n",
    "                if P_r_s != 0:\n",
    "                    info_gain[goal, cell] += P_r_s * np.log2(P_r_s / P_r)\n",
    "    return info_gain\n",
    "\n",
    "def net_information_gain(info_gain: np.array, response_dist: PriorDistributionCell, constants: tuple) -> np.array:\n",
    "    num_goals, num_cells, num_cats = constants\n",
    "    net_info_gain = np.zeros(num_cells)\n",
    "    for cell in range(num_cells):\n",
    "        for goal in range(num_goals):\n",
    "            I_s_R = info_gain[goal, cell]\n",
    "            P_s = response_dist.P_s(goal)\n",
    "            net_info_gain[cell] += P_s * I_s_R\n",
    "    return net_info_gain"
   ]
  },
  {
   "cell_type": "code",
   "execution_count": 22,
   "metadata": {},
   "outputs": [],
   "source": [
    "# Information gain per stimulus (relative to entire session responses)\n",
    "information_gain_cue = np.zeros((num_goals, num_cells))\n",
    "information_gain_nav = np.zeros((num_goals, num_cells))\n",
    "\n",
    "for goal in range(num_goals):\n",
    "    for cell in range(num_cells):\n",
    "        for cat in range(num_cats):\n",
    "            P_r_s = response_distribution_cue.P_r_s(cell, cat, goal)\n",
    "            P_r = response_distribution_cue.P_r(cell, cat)\n",
    "            if P_r_s != 0:\n",
    "                information_gain_cue[goal, cell] += P_r_s * np.log2(P_r_s / P_r)\n",
    "            \n",
    "            P_r_s = response_distribution_nav.P_r_s(cell, cat, goal)\n",
    "            P_r = response_distribution_nav.P_r(cell, cat)\n",
    "            if P_r_s != 0:\n",
    "                information_gain_nav[goal, cell] += P_r_s * np.log2(P_r_s / P_r)\n",
    "            "
   ]
  },
  {
   "cell_type": "code",
   "execution_count": 23,
   "metadata": {},
   "outputs": [
    {
     "name": "stdout",
     "output_type": "stream",
     "text": [
      "Cue: [0.00776766 0.13831873 0.         0.         0.33063682 0.23866298\n",
      " 0.05217741 0.05109419 0.06451824 0.07499016 0.22138719 0.\n",
      " 0.        ]\n",
      "Nav: [0.00471139 0.03320651 0.         0.         0.03967641 0.06166316\n",
      " 0.04750152 0.04018559 0.06271451 0.02662556 0.02148001 0.\n",
      " 0.        ]\n"
     ]
    }
   ],
   "source": [
    "# Net information gain acrosss entire stimuli set\n",
    "net_information_gain_cue = np.zeros(num_cells)\n",
    "net_information_gain_nav = np.zeros(num_cells)\n",
    "\n",
    "for cell in range(num_cells):\n",
    "    for goal in range(num_goals):\n",
    "        I_s_R = information_gain_cue[goal, cell]\n",
    "        P_s = response_distribution_cue.P_s(goal)\n",
    "        net_information_gain_cue[cell] += P_s * I_s_R\n",
    "\n",
    "        I_s_R = information_gain_nav[goal, cell]\n",
    "        P_s = response_distribution_nav.P_s(goal)\n",
    "        net_information_gain_nav[cell] += P_s * I_s_R\n",
    "\n",
    "print(f'Cue: {net_information_gain_cue}')\n",
    "print(f'Nav: {net_information_gain_nav}')"
   ]
  },
  {
   "cell_type": "code",
   "execution_count": 24,
   "metadata": {},
   "outputs": [
    {
     "data": {
      "text/plain": [
       "array([ 1.64869848,  4.1654105 ,  0.        ,  0.        ,  8.33333439,\n",
       "        3.87043035,  1.09843655,  1.27145561,  1.02876094,  2.81647294,\n",
       "       10.30666297,  0.        ,  0.        ])"
      ]
     },
     "execution_count": 24,
     "metadata": {},
     "output_type": "execute_result"
    }
   ],
   "source": [
    "net_info_gain_ratio = np.divide(net_information_gain_cue, net_information_gain_nav, out=np.zeros_like(net_information_gain_cue), where=net_information_gain_nav!=0)\n",
    "net_info_gain_ratio"
   ]
  },
  {
   "cell_type": "code",
   "execution_count": 25,
   "metadata": {},
   "outputs": [],
   "source": [
    "def net_information_gain_ratio(data: tuple, constants: tuple) -> np.array:\n",
    "    # Unpacking main data variables and constants\n",
    "    binned_spikes_nav, binned_spikes_session, trial_markers, net_information_gain_cue = data\n",
    "    num_goals, num_cells, num_cats = constants\n",
    "\n",
    "    # Group cue phase spikes according to goal\n",
    "    responses_per_goal_nav = group_by_goal(binned_spikes_nav, trial_markers)\n",
    "\n",
    "    # Get distribution of population responses for cue phase and navigation phase vs entire session\n",
    "    response_distribution_nav = PriorDistributionCell(binned_spikes_session, responses_per_goal_nav)\n",
    "\n",
    "    # Information gain per stimulus (relative to entire session responses)\n",
    "    information_gain_nav = information_gain(response_distribution_nav, constants)\n",
    "\n",
    "    # Net information gain acrosss entire stimuli set\n",
    "    net_information_gain_nav = net_information_gain(information_gain_nav, response_distribution_nav, constants)\n",
    "\n",
    "    # Net information gain ratio between cue and navigation phase\n",
    "    res = np.divide(net_information_gain_cue, net_information_gain_nav, out=np.zeros_like(net_information_gain_cue), where=net_information_gain_nav!=0)\n",
    "    return res"
   ]
  },
  {
   "attachments": {},
   "cell_type": "markdown",
   "metadata": {},
   "source": [
    "Parameter tuning for Bootstrap/Jackknife error estimation"
   ]
  },
  {
   "cell_type": "code",
   "execution_count": 26,
   "metadata": {},
   "outputs": [],
   "source": [
    "# # Jackknife estimation procedure\n",
    "# num_samples = binned_spikes_nav.shape[0]\n",
    "# indexes = np.arange(num_samples)\n",
    "# jack_estimates = list()\n",
    "\n",
    "# for i in range(num_samples):\n",
    "#     binned_spikes_nav_subset = binned_spikes_nav[indexes!=i,:]\n",
    "#     trial_markers_subset = trial_markers_filt[indexes!=i]\n",
    "#     data_subset = binned_spikes_nav_subset, binned_spikes_session, trial_markers_subset, net_information_gain_cue\n",
    "#     jack_estimates.append(net_information_gain_ratio(data_subset, constants))\n",
    "# jack_estimates = np.array(jack_estimates)"
   ]
  },
  {
   "cell_type": "code",
   "execution_count": 27,
   "metadata": {},
   "outputs": [],
   "source": [
    "# # Jackknife mean and variance estimate\n",
    "# jack_est_mean = np.mean(jack_estimates, axis=0)\n",
    "# jack_est_std = np.zeros_like(jack_est_mean)\n",
    "# for i, est in enumerate(jack_estimates):\n",
    "#     jack_est_std += (est - jack_est_mean)**2\n",
    "# jack_est_std = np.sqrt((num_samples - 1)/num_samples * jack_est_std)"
   ]
  },
  {
   "cell_type": "code",
   "execution_count": 37,
   "metadata": {},
   "outputs": [],
   "source": [
    "def bootstrap_estimate(data: tuple, constants: tuple, ratio: float, iters: int, intvl: tuple, replace=True, rng=np.random.default_rng()) -> tuple:\n",
    "    # Unpack main data variables\n",
    "    binned_spikes_nav, binned_spikes_session, trial_markers, net_information_gain_cue = data\n",
    "\n",
    "    # Store net information gain ratio estimate from each bootstrapped sample\n",
    "    estimates = list()\n",
    "\n",
    "    # Big loop\n",
    "    for i in range(iters):\n",
    "\n",
    "        # Sampling with replacement\n",
    "        num_samples = binned_spikes_nav.shape[0]\n",
    "        num_subset = int(round(ratio * num_samples))\n",
    "        indexes = tuple(rng.choice(num_samples, size=num_subset, replace=replace))\n",
    "        binned_spikes_nav_subset = binned_spikes_nav[indexes,:]\n",
    "        trial_markers_subset = trial_markers.reshape(-1,1)[indexes,:][:,0]\n",
    "\n",
    "        # Calculate net information gain ratio for this sample\n",
    "        data_subset = binned_spikes_nav_subset, binned_spikes_session, trial_markers_subset, net_information_gain_cue\n",
    "        estimates.append(net_information_gain_ratio(data_subset, constants))\n",
    "\n",
    "    # Calculate bootstrapped mean and stdev\n",
    "    est_mean = np.mean(estimates, axis=0)\n",
    "    est_std = np.std(estimates, axis=0, ddof=1)\n",
    "    est_intvl = (np.percentile(estimates, intvl[0], axis=0), np.percentile(estimates, intvl[1], axis=0))\n",
    "    return est_mean, est_std, est_intvl"
   ]
  },
  {
   "cell_type": "code",
   "execution_count": 38,
   "metadata": {},
   "outputs": [],
   "source": [
    "# Figure out what is a good number of iterations for jackknifing\n",
    "data = binned_spikes_nav, binned_spikes_session, trial_markers, net_information_gain_cue\n",
    "jack_est_means, jack_est_stds, jack_est_intvls = list(), list(), list()\n",
    "sample_ratio = 0.8\n",
    "intvl = (5, 95)\n",
    "iter_range = range(100, 1100, 100)\n",
    "for iter in iter_range:\n",
    "    jack_est_mean, jack_est_std, jack_est_intvl = bootstrap_estimate(data, constants, sample_ratio, iter, intvl, replace=False)\n",
    "    jack_est_means.append(jack_est_mean)\n",
    "    jack_est_stds.append(jack_est_std)\n",
    "    jack_est_intvls.append(jack_est_intvl)\n",
    "jack_est_means = np.array(jack_est_means).T\n",
    "jack_est_stds = np.array(jack_est_stds).T\n",
    "jack_est_intvls = np.array(jack_est_intvls).T"
   ]
  },
  {
   "cell_type": "code",
   "execution_count": 39,
   "metadata": {},
   "outputs": [],
   "source": [
    "# Figure out what is a good number of iterations for bootstrapping\n",
    "data = binned_spikes_nav, binned_spikes_session, trial_markers, net_information_gain_cue\n",
    "boot_est_means, boot_est_stds, boot_est_intvls = list(), list(), list()\n",
    "sample_ratio = 1\n",
    "intvl = (5, 95)\n",
    "iter_range = range(100, 1100, 100)\n",
    "for iter in iter_range:\n",
    "    boot_est_mean, boot_est_std, boot_est_intvl = bootstrap_estimate(data, constants, sample_ratio, iter, intvl)\n",
    "    boot_est_means.append(boot_est_mean)\n",
    "    boot_est_stds.append(boot_est_std)\n",
    "    boot_est_intvls.append(boot_est_intvl)\n",
    "boot_est_means = np.array(boot_est_means).T\n",
    "boot_est_stds = np.array(boot_est_stds).T\n",
    "boot_est_intvls = np.array(boot_est_intvls).T"
   ]
  },
  {
   "cell_type": "code",
   "execution_count": 59,
   "metadata": {},
   "outputs": [
    {
     "data": {
      "image/png": "[encoded data removed]",
      "text/plain": [
       "<Figure size 640x480 with 1 Axes>"
      ]
     },
     "metadata": {},
     "output_type": "display_data"
    }
   ],
   "source": [
    "# Plot 5/95 percentile points of one particular cell\n",
    "cell_num = 10\n",
    "boot_low = boot_est_intvls[cell_num,0,:]\n",
    "boot_high = boot_est_intvls[cell_num,1,:]\n",
    "jack_low = jack_est_intvls[cell_num,0,:]\n",
    "jack_high = jack_est_intvls[cell_num,1,:]\n",
    "\n",
    "plt.figure()\n",
    "plt.title(f'Bootstrap/jackknife error estimate, cell #{cell_num+1}')\n",
    "plt.plot(iter_range, boot_low, color='C0', marker='^', label='Bootstrap 5%')\n",
    "plt.plot(iter_range, boot_high, color='C0', marker='v', label='Bootstrap 95%')\n",
    "plt.plot(iter_range, jack_low, color='r', marker='^', label='Jackknife 5%')\n",
    "plt.plot(iter_range, jack_high, color='r', marker='v', label='Jackknife 95%')\n",
    "plt.legend()\n",
    "plt.xlabel('Iterations')\n",
    "plt.ylabel('Estimate')\n",
    "plt.show()"
   ]
  }
 ],
 "metadata": {
  "kernelspec": {
   "display_name": "Python 3.10.4 ('decoding')",
   "language": "python",
   "name": "python3"
  },
  "language_info": {
   "codemirror_mode": {
    "name": "ipython",
    "version": 3
   },
   "file_extension": ".py",
   "mimetype": "text/x-python",
   "name": "python",
   "nbconvert_exporter": "python",
   "pygments_lexer": "ipython3",
   "version": "3.10.4"
  },
  "orig_nbformat": 4,
  "vscode": {
   "interpreter": {
    "hash": "c3fe2a2c8d7eb9520fbb1c58f5c7303a51cf224a80a092f134560e88ca87af0b"
   }
  }
 },
 "nbformat": 4,
 "nbformat_minor": 2
}
