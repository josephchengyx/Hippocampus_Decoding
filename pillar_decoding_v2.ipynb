{
 "cells": [
  {
   "cell_type": "code",
   "execution_count": 1,
   "metadata": {},
   "outputs": [],
   "source": [
    "import os\n",
    "import numpy as np\n",
    "from scipy.io import loadmat\n",
    "import h5py\n",
    "from preproc import *\n",
    "import matplotlib.pyplot as plt\n",
    "from sklearn.discriminant_analysis import LinearDiscriminantAnalysis\n",
    "from sklearn.svm import SVC"
   ]
  },
  {
   "cell_type": "code",
   "execution_count": 2,
   "metadata": {},
   "outputs": [],
   "source": [
    "# Specify which day's dataset to use\n",
    "prefix = \"/Volumes/Hippocampus/Data/picasso-misc/\"\n",
    "day_dir = \"20181102\""
   ]
  },
  {
   "cell_type": "code",
   "execution_count": 3,
   "metadata": {},
   "outputs": [],
   "source": [
    "# Get list of cells under the day directory\n",
    "os.system(f\"sh ~/Documents/neural_decoding/Hippocampus_Decoding/get_cells.sh {day_dir}\")\n",
    "cell_list = list()\n",
    "with open(\"cell_list.txt\", \"r\") as file:\n",
    "    for line in file.readlines():\n",
    "        cell_list.append(line.strip())\n",
    "os.system(\"rm cell_list.txt\")\n",
    "\n",
    "# Load data from rplparallel.mat object, extract trial markers, time stamps and session start timestamp\n",
    "rp = h5py.File(prefix + day_dir + \"/session01/rplparallel.mat\")\n",
    "rp = rp.get('rp').get('data')\n",
    "trial_markers = np.array(rp.get('markers'))\n",
    "trial_timestamps = np.array(rp.get('timeStamps'))\n",
    "session_start_time = np.round(np.array(rp.get('session_start_sec'))[0,0], 3)\n",
    "\n",
    "# Load data and extract spike times from all spiketrain.mat objects\n",
    "spike_times = list()\n",
    "cell_labels = list()\n",
    "for cell_dir in cell_list:\n",
    "    spk = loadmat(prefix + day_dir + \"/session01/\" + cell_dir + \"/spiketrain.mat\")\n",
    "    spk = spk.get('timestamps').flatten() # spike timestamps is loaded in as a column vector\n",
    "    spk = spk / 1000 # convert spike timestamps from msec to sec\n",
    "    spike_times.append(spk)\n",
    "    \n",
    "    cell_name = cell_dir.split('/')\n",
    "    array, channel, cell = cell_name[0][6:], cell_name[1][7:], cell_name[2][5:]\n",
    "    if channel[0] == '0':\n",
    "        channel = channel[1:]\n",
    "    cell_labels.append(f'a{array}/ch{channel}/c{cell}')\n",
    "\n",
    "# Load data from vmpv.mat object, extract session end timestamp\n",
    "pv = h5py.File(prefix + day_dir + \"/session01/1vmpv.mat\")\n",
    "pv = pv.get('pv').get('data')\n",
    "session_end_time = np.round(np.array(pv.get('rplmaxtime'))[0,0], 3)"
   ]
  },
  {
   "cell_type": "code",
   "execution_count": 4,
   "metadata": {},
   "outputs": [],
   "source": [
    "# Get poster numbers from trial markers, cue phase time intervals\n",
    "trial_markers = trial_markers[0,:] % 10\n",
    "trial_markers = trial_markers.astype(int)\n",
    "cue_intervals = trial_timestamps[0:2,:].T\n",
    "\n",
    "# Get durations of each navigation phase\n",
    "nav_timestamps = trial_timestamps[1:,:].T\n",
    "nav_durations = nav_timestamps[:,1] - nav_timestamps[:,0]\n",
    "nav_durations = nav_durations.astype(np.int8)\n",
    "\n",
    "# Bin navigation phases into 1-second time bins\n",
    "nav_intervals = list()\n",
    "delta = 1  # Size of time bin (in seconds)\n",
    "for idx, intvl in enumerate(nav_timestamps):\n",
    "    nav_start, nav_end = intvl\n",
    "    nav_intervals.append(np.vstack((np.arange(nav_start, nav_end - delta, delta), np.arange(nav_start + delta, nav_end, delta))).T)\n",
    "\n",
    "# Generate time intervals for each trial\n",
    "trial_intervals = np.empty_like(cue_intervals)\n",
    "trial_intervals[:,0] = cue_intervals[:,1]\n",
    "trial_intervals[:-1,1] = cue_intervals[1:,0]\n",
    "trial_intervals[-1,1] = session_end_time"
   ]
  },
  {
   "cell_type": "code",
   "execution_count": 5,
   "metadata": {},
   "outputs": [],
   "source": [
    "# Filter out trials that are too long (> 25 seconds) or have repeated goal from previous trial\n",
    "good_trials = np.ones(trial_markers.shape, dtype=np.int8)\n",
    "max_dur = 25  # maximum duration of trials (in seconds) to filter out\n",
    "prev_goal = 0\n",
    "for num, dur in enumerate(nav_durations):\n",
    "    curr_goal = trial_markers[num]\n",
    "    if dur > max_dur or curr_goal == prev_goal:\n",
    "        good_trials[num] = 0\n",
    "    prev_goal = curr_goal\n",
    "trial_filt = np.where(good_trials == 1)\n",
    "\n",
    "trial_markers = trial_markers[trial_filt]\n",
    "cue_intervals = cue_intervals[trial_filt,:][0]  # not sure why it adds an extra axis\n",
    "nav_durations = nav_durations[trial_filt]\n",
    "new_nav_intervals = list()\n",
    "for num, trial in enumerate(nav_intervals):\n",
    "    if good_trials[num] == 1:\n",
    "        new_nav_intervals.append(trial)\n",
    "nav_intervals = new_nav_intervals\n",
    "trial_intervals = trial_intervals[trial_filt]\n",
    "\n",
    "# Convert target posters to target pillars\n",
    "def goal_to_pillar(goals: np.array) -> np.array:\n",
    "    mapping = {1:3, 2:1, 3:4, 4:2, 5:2, 6:3}\n",
    "    pillars = np.zeros_like(goals)\n",
    "    for idx, goal in enumerate(goals):\n",
    "        pillars[idx] = mapping[goal]\n",
    "    return pillars\n",
    "trial_markers = goal_to_pillar(trial_markers)"
   ]
  },
  {
   "cell_type": "code",
   "execution_count": 6,
   "metadata": {},
   "outputs": [
    {
     "name": "stdout",
     "output_type": "stream",
     "text": [
      "Percentage of trials longer than __ seconds (sample size: 400):\n",
      "25%: 12.0, 50%: 8.5, 75%: 6.0, min: 2\n"
     ]
    }
   ],
   "source": [
    "# Get quantiles of trial duration distribution\n",
    "nav_dur_25 = np.percentile(nav_durations, 25)\n",
    "nav_dur_50 = np.median(nav_durations)\n",
    "nav_dur_75 = np.percentile(nav_durations, 75)\n",
    "nav_dur_min = min(nav_durations)\n",
    "\n",
    "print(f'Percentage of trials longer than __ seconds (sample size: {nav_durations.shape[0]}):')\n",
    "print(f'25%: {nav_dur_75}, 50%: {nav_dur_50}, 75%: {nav_dur_25}, min: {nav_dur_min}')"
   ]
  },
  {
   "cell_type": "code",
   "execution_count": 7,
   "metadata": {},
   "outputs": [],
   "source": [
    "# Bin entire session into 1-second time bins, aligned to the end of each cue phase for each trial\n",
    "session_intervals = list()\n",
    "for idx, intvl in enumerate(trial_intervals):\n",
    "    session_intervals.append(cue_intervals[idx,:])\n",
    "    nav_start, nav_end = intvl\n",
    "    for time in np.arange(nav_start, nav_end - 1, 1):\n",
    "        session_intervals.append(np.array([time, time + 1]))\n",
    "session_intervals = np.array(session_intervals)\n",
    "\n",
    "# Slot spikes into cue phase intervals for each trial\n",
    "spikecounts_cue = spike_counts_per_observation(cue_intervals, spike_times)\n",
    "\n",
    "# Slot spikes into navigation phase intervals\n",
    "spikecounts_nav = list()\n",
    "for phase in nav_intervals:\n",
    "    spikecounts_nav.append(spike_counts_per_observation(phase, spike_times))\n",
    "\n",
    "# Slot spikes into session time intervals\n",
    "spikecounts_session = spike_counts_per_observation(session_intervals, spike_times)\n",
    "\n",
    "# Get firing rate thresholds used for binning each cell across entire session\n",
    "binning_stats = list()\n",
    "for col in range(spikecounts_session.shape[1]):\n",
    "    binning_stats.append(get_binning_stats_4(spikecounts_session[:,col]))\n",
    "\n",
    "# Bin spike counts within each cell for cue phases\n",
    "binned_spikes_cue = np.empty_like(spikecounts_cue)\n",
    "for col in range(spikecounts_cue.shape[1]):\n",
    "    binned_spikes_cue[:,col] = bin_firing_rates_4(spikecounts_cue[:,col], stats=binning_stats[col])\n",
    "\n",
    "# Bin spike counts within each cell for navigation phases\n",
    "binned_spikes_nav = list()\n",
    "for phase in spikecounts_nav:\n",
    "    binned_phase = np.empty_like(phase)\n",
    "    for col in range(phase.shape[1]):\n",
    "        binned_phase[:,col] = bin_firing_rates_4(phase[:,col], stats=binning_stats[col])\n",
    "    binned_spikes_nav.append(binned_phase)"
   ]
  },
  {
   "cell_type": "code",
   "execution_count": 8,
   "metadata": {},
   "outputs": [],
   "source": [
    "def train_test_split(X: np.array, y: np.array, split: tuple) -> tuple:\n",
    "    # itr: current iteration of k-fold validation\n",
    "    # way: value of k in k-fold validation\n",
    "    itr, way = split\n",
    "    X_train, X_test = list(), list()\n",
    "    y_train, y_test = list(), list()\n",
    "    for num, obs in enumerate(X):\n",
    "        if num % way == itr:\n",
    "            X_test.append(obs)\n",
    "            y_test.append(y[num])\n",
    "        else:\n",
    "            X_train.append(obs)\n",
    "            y_train.append(y[num])\n",
    "    # Return format: X_train, X_test, y_train, y_test   \n",
    "    return np.array(X_train), np.array(X_test), np.array(y_train), np.array(y_test)\n",
    "\n",
    "def prediction_accuracy(y_pred: np.array, y_actl: np.array) -> float:\n",
    "    count, total = 0, y_actl.shape[0]\n",
    "    for num, obs in enumerate(y_pred):\n",
    "        if obs == y_actl[num]:\n",
    "            count += 1\n",
    "    return count / total\n",
    "\n",
    "def confusion_matrix(y_pred: np.array, y_actl: np.array, res: np.array) -> np.array:\n",
    "    for pred, actl in zip(y_pred, y_actl):\n",
    "        pred, actl = pred - 1, actl - 1\n",
    "        res[pred, actl] += 1\n",
    "    return res\n",
    "\n",
    "def plot_confusion_matrix(conf_mat: np.array, title: str):\n",
    "    num_goals = conf_mat.shape[0]\n",
    "    col_sums = np.sum(conf_mat, axis=0)\n",
    "    conf_mat_prop = np.empty_like(conf_mat)\n",
    "    for col, val in enumerate(col_sums):\n",
    "        conf_mat_prop[:,col] = conf_mat[:,col] / val\n",
    "\n",
    "    plt.figure()\n",
    "    ax = plt.gca()\n",
    "    plt.title(title)\n",
    "    plt.imshow(conf_mat_prop, cmap='cool', vmin=0, vmax=1)\n",
    "    plt.colorbar(label='Proportion of hits')\n",
    "    plt.xticks(np.arange(num_goals), labels=np.arange(1, num_goals+1))\n",
    "    plt.yticks(np.arange(num_goals), labels=np.arange(1, num_goals+1))\n",
    "    plt.tick_params(top=True, labeltop=True, bottom=False, labelbottom=False)\n",
    "    plt.xlabel('Actual goal')\n",
    "    plt.ylabel('Predicted goal')\n",
    "    ax.xaxis.set_label_position('top')\n",
    "    for i, row in enumerate(conf_mat):\n",
    "        for j, val in enumerate(row):\n",
    "            ax.text(j, i, f'{val:.0f}', ha='center', va='center', color='k')\n",
    "\n",
    "def get_nav_timebin(nav_spikes: list, timebin: int) -> np.array:\n",
    "    res = list()\n",
    "    for trial in nav_spikes:\n",
    "        if trial.shape[0] > timebin:\n",
    "            res.append(trial[timebin,:])\n",
    "    return np.array(res)\n",
    "\n",
    "def k_fold_prediction(data, model, k_fold):\n",
    "    # Unpack data\n",
    "    spikes_per_trial, trial_markers, num_goals = data\n",
    "    # Initialize arrays for storing results\n",
    "    accuracy = np.zeros(k_fold)\n",
    "    confusion_mat = np.zeros((num_goals, num_goals))\n",
    "    # RUn k-fold prediction\n",
    "    for k in range(k_fold):\n",
    "        X_train, X_test, y_train, y_test = train_test_split(spikes_per_trial, trial_markers, (k, k_fold))\n",
    "        model.fit(X_train, y_train)\n",
    "        y_pred = model.predict(X_test)\n",
    "        accuracy[k] = prediction_accuracy(y_pred, y_test)\n",
    "        confusion_mat = confusion_matrix(y_pred, y_test, confusion_mat)\n",
    "    return accuracy, confusion_mat\n"
   ]
  },
  {
   "cell_type": "code",
   "execution_count": 9,
   "metadata": {},
   "outputs": [],
   "source": [
    "# Use LDA model and define important constants\n",
    "model_name = 'SVM, binned'\n",
    "# model = LinearDiscriminantAnalysis()\n",
    "model = SVC()\n",
    "num_goals = 4\n",
    "k_fold = 10\n",
    "\n",
    "# Dataset to use (binned or raw counts)\n",
    "cue_input = binned_spikes_cue\n",
    "nav_input = binned_spikes_nav\n",
    "# cue_input = spikecounts_cue\n",
    "# nav_input = spikecounts_nav\n",
    "\n",
    "# Decoding for cue phase\n",
    "cue_accuracy, cue_conf_mat = k_fold_prediction((cue_input, trial_markers, num_goals), model, k_fold)\n",
    "\n",
    "# Store results in big array\n",
    "accuracies, confusion_mats = [cue_accuracy], [cue_conf_mat]"
   ]
  },
  {
   "cell_type": "code",
   "execution_count": 10,
   "metadata": {},
   "outputs": [],
   "source": [
    "# Decoding across trial\n",
    "for timebin in range(0, int(nav_dur_50)):\n",
    "    bin_accuracy, bin_conf_mat = k_fold_prediction((get_nav_timebin(nav_input, timebin), trial_markers, num_goals), model, k_fold)\n",
    "    accuracies.append(bin_accuracy)\n",
    "    confusion_mats.append(bin_conf_mat)"
   ]
  },
  {
   "cell_type": "code",
   "execution_count": 11,
   "metadata": {},
   "outputs": [],
   "source": [
    "# Calculate average accuracy for each time bin\n",
    "mean_accuracies = list(map(lambda arr: np.sum(arr)/arr.shape[0], accuracies))"
   ]
  },
  {
   "cell_type": "code",
   "execution_count": 12,
   "metadata": {},
   "outputs": [
    {
     "data": {
      "image/png": "[encoded data removed]",
      "text/plain": [
       "<Figure size 640x480 with 1 Axes>"
      ]
     },
     "metadata": {},
     "output_type": "display_data"
    }
   ],
   "source": [
    "# Plot variance in prediciton accuracy across trial\n",
    "plt.figure()\n",
    "plt.title(f'Pillar decoding accuracy across trial - {day_dir}, {model_name}')\n",
    "plt.boxplot(accuracies, showmeans=True, notch=True)\n",
    "plt.plot(np.arange(1, len(accuracies)+1), mean_accuracies, 'C0-', linewidth=1)\n",
    "plt.xticks(np.arange(1, len(accuracies)+1), labels=np.arange(len(accuracies)))\n",
    "plt.axvline(x=1.5, color='k', linewidth=1, linestyle='--')\n",
    "plt.xlabel('Time (s)')\n",
    "plt.ylabel('Accuracy')\n",
    "plt.show()"
   ]
  }
 ],
 "metadata": {
  "kernelspec": {
   "display_name": "Python 3.10.4 ('decoding')",
   "language": "python",
   "name": "python3"
  },
  "language_info": {
   "codemirror_mode": {
    "name": "ipython",
    "version": 3
   },
   "file_extension": ".py",
   "mimetype": "text/x-python",
   "name": "python",
   "nbconvert_exporter": "python",
   "pygments_lexer": "ipython3",
   "version": "3.10.4"
  },
  "orig_nbformat": 4,
  "vscode": {
   "interpreter": {
    "hash": "c3fe2a2c8d7eb9520fbb1c58f5c7303a51cf224a80a092f134560e88ca87af0b"
   }
  }
 },
 "nbformat": 4,
 "nbformat_minor": 2
}
