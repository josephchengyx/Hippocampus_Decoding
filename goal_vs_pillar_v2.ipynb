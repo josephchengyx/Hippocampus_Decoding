{
 "cells": [
  {
   "cell_type": "code",
   "execution_count": null,
   "metadata": {},
   "outputs": [],
   "source": [
    "import os\n",
    "import numpy as np\n",
    "from scipy.io import loadmat\n",
    "import h5py\n",
    "from preproc import *\n",
    "from priordist import PriorDistributionCell"
   ]
  },
  {
   "cell_type": "code",
   "execution_count": null,
   "metadata": {},
   "outputs": [],
   "source": [
    "# Specify which day's dataset to use\n",
    "prefix = \"/Volumes/Hippocampus/Data/picasso-misc/\"\n",
    "day_dir = \"20181102\""
   ]
  },
  {
   "cell_type": "code",
   "execution_count": null,
   "metadata": {},
   "outputs": [],
   "source": [
    "# Get list of cells under the day directory\n",
    "os.system(f\"sh ~/Documents/neural_decoding/Hippocampus_Decoding/get_cells.sh {day_dir}\")\n",
    "cell_list = list()\n",
    "with open(\"cell_list.txt\", \"r\") as file:\n",
    "    for line in file.readlines():\n",
    "        cell_list.append(line.strip())\n",
    "os.system(\"rm cell_list.txt\")\n",
    "\n",
    "# Load data from rplparallel.mat object, extract trial markers, time stamps and session start timestamp\n",
    "rp = h5py.File(prefix + day_dir + \"/session01/rplparallel.mat\")\n",
    "rp = rp.get('rp').get('data')\n",
    "trial_markers = np.array(rp.get('markers'))\n",
    "trial_timestamps = np.array(rp.get('timeStamps'))\n",
    "session_start_time = np.round(np.array(rp.get('session_start_sec'))[0,0], 3)\n",
    "\n",
    "# Load data and extract spike times from all spiketrain.mat objects\n",
    "spike_times = list()\n",
    "cell_labels = list()\n",
    "for cell_dir in cell_list:\n",
    "    spk = loadmat(prefix + day_dir + \"/session01/\" + cell_dir + \"/spiketrain.mat\")\n",
    "    spk = spk.get('timestamps').flatten() # spike timestamps is loaded in as a column vector\n",
    "    spk = spk / 1000 # convert spike timestamps from msec to sec\n",
    "    spike_times.append(spk)\n",
    "    \n",
    "    cell_name = cell_dir.split('/')\n",
    "    array, channel, cell = cell_name[0][6:], cell_name[1][7:], cell_name[2][5:]\n",
    "    if channel[0] == '0':\n",
    "        channel = channel[1:]\n",
    "    cell_labels.append(f'a{array}/ch{channel}/c{cell}')\n",
    "\n",
    "# Load data from vmpv.mat object, extract session end timestamp\n",
    "pv = h5py.File(prefix + day_dir + \"/session01/1vmpv.mat\")\n",
    "pv = pv.get('pv').get('data')\n",
    "session_end_time = np.round(np.array(pv.get('rplmaxtime'))[0,0], 3)"
   ]
  },
  {
   "cell_type": "code",
   "execution_count": null,
   "metadata": {},
   "outputs": [],
   "source": [
    "# Get poster numbers from trial markers, cue phase time intervals\n",
    "trial_markers = trial_markers[0,:] % 10\n",
    "trial_markers = trial_markers.astype(int)\n",
    "cue_intervals = trial_timestamps[0:2,:].T\n",
    "\n",
    "# Generate time intervals for navigation phases and bin into 1-second time bins\n",
    "nav_timestamps = trial_timestamps[1:,:].T\n",
    "nav_intervals = list()\n",
    "delta = 1  # Size of time bin (in seconds)\n",
    "for idx, intvl in enumerate(nav_timestamps):\n",
    "    nav_start, nav_end = intvl\n",
    "    nav_intervals.append(np.vstack((np.arange(nav_start, nav_end - delta, delta), np.arange(nav_start + delta, nav_end, delta))).T)"
   ]
  },
  {
   "cell_type": "code",
   "execution_count": null,
   "metadata": {},
   "outputs": [],
   "source": [
    "# Check number of time bins per trial\n",
    "timebins_per_nav_phase = np.array(list(map(lambda arr: arr.shape[0], nav_intervals)))\n",
    "\n",
    "# Filter out trials that are too long (> 25 seconds) or have repeated goal from previous trial\n",
    "good_trials = np.ones(timebins_per_nav_phase.shape, dtype=np.int8)\n",
    "max_dur = 25  # maximum duration of trials (in seconds) to filter out\n",
    "prev_goal = 0\n",
    "for num, dur in enumerate(timebins_per_nav_phase):\n",
    "    curr_goal = trial_markers[num]\n",
    "    if dur > max_dur or curr_goal == prev_goal:\n",
    "        good_trials[num] = 0\n",
    "    prev_goal = curr_goal\n",
    "trial_filt = np.where(good_trials == 1)\n",
    "\n",
    "trial_markers = trial_markers[trial_filt]\n",
    "cue_intervals = cue_intervals[trial_filt,:][0]  # not sure why it adds an extra axis\n",
    "new_nav_intervals = list()\n",
    "for num, trial in enumerate(nav_intervals):\n",
    "    if good_trials[num] == 1:\n",
    "        new_nav_intervals.append(trial)\n",
    "nav_intervals = new_nav_intervals\n",
    "timebins_per_nav_phase = timebins_per_nav_phase[trial_filt]\n",
    "full_cue_intervals = np.copy(cue_intervals)"
   ]
  },
  {
   "attachments": {},
   "cell_type": "markdown",
   "metadata": {},
   "source": [
    "Change time window here"
   ]
  },
  {
   "cell_type": "code",
   "execution_count": null,
   "metadata": {},
   "outputs": [],
   "source": [
    "# Use 250ms time bins within cue phase, change which 250ms window to use\n",
    "timebin_window = (0.75, 1)\n",
    "cue_intervals = np.copy(full_cue_intervals)\n",
    "for i in range(cue_intervals.shape[0]):\n",
    "    cue_intervals[i,1] = cue_intervals[i,0] + timebin_window[1]\n",
    "    cue_intervals[i,0] += timebin_window[0]"
   ]
  },
  {
   "cell_type": "code",
   "execution_count": null,
   "metadata": {},
   "outputs": [],
   "source": [
    "# Plot layout of maze\n",
    "import matplotlib.pyplot as plt\n",
    "from matplotlib.patches import Rectangle\n",
    "\n",
    "plt.figure('Maze Layout')\n",
    "ax = plt.gca()\n",
    "ax.set_xlim([0, 40])\n",
    "ax.set_ylim([0, 40])\n",
    "ax.set_xticks([])\n",
    "ax.set_yticks([])\n",
    "# Add maze pillars\n",
    "ax.add_patch(Rectangle((8, 8), 8, 8, edgecolor='blue', fill=False, linewidth=1))\n",
    "ax.add_patch(Rectangle((8, 24), 8, 8, edgecolor='gold', fill=False, linewidth=1))\n",
    "ax.add_patch(Rectangle((24, 8), 8, 8, edgecolor='green', fill=False, linewidth=1))\n",
    "ax.add_patch(Rectangle((24, 24), 8, 8, edgecolor='red', fill=False, linewidth=1))\n",
    "# Add poster locations\n",
    "ax.text(12, 8, '1', ha='center', va='top', color='k')\n",
    "ax.text(8, 28, '2', ha='right', va='center', color='k')\n",
    "ax.text(32, 12, '3', ha='left', va='center', color='k')\n",
    "ax.text(28, 32, '4', ha='center', va='bottom', color='k')\n",
    "ax.text(28, 24, '5', ha='center', va='top', color='k')\n",
    "ax.text(12, 16, '6', ha='center', va='bottom', color='k')\n",
    "# Add pillar labels\n",
    "ax.text(12, 28, 'Pl 1', ha='center', va='center', color='gold')\n",
    "ax.text(28, 28, 'Pl 2', ha='center', va='center', color='red')\n",
    "ax.text(12, 12, 'Pl 3', ha='center', va='center', color='blue')\n",
    "ax.text(28, 12, 'Pl 4', ha='center', va='center', color='green')"
   ]
  },
  {
   "cell_type": "code",
   "execution_count": null,
   "metadata": {},
   "outputs": [],
   "source": [
    "def group_by_goal(timeseries: np.array, goals: np.array) -> list:\n",
    "    num_goals = 6\n",
    "    grouped = [np.empty((0, timeseries.shape[1])) for _ in range(num_goals)]\n",
    "    for idx, goal in enumerate(goals):\n",
    "        goal = int(goal - 1)\n",
    "        grouped[goal] = np.vstack((grouped[goal], timeseries[idx,:]))\n",
    "    return grouped\n",
    "\n",
    "def euclidean_distance(arr1: np.array, arr2: np.array) -> float:\n",
    "    return np.linalg.norm(arr1 - arr2)\n",
    "\n",
    "def pairwise_distances_between(clust1: np.array, clust2: np.array) -> np.array:\n",
    "    res = list()\n",
    "    for obs1 in clust1:\n",
    "        for obs2 in clust2:\n",
    "            res.append(euclidean_distance(obs1, obs2))\n",
    "    return np.array(res)\n",
    "\n",
    "def pairwise_distances_within(clust: np.array) -> np.array:\n",
    "    res = list()\n",
    "    for i in range(clust.shape[0] - 1):\n",
    "        for j in range(i+1, clust.shape[0]):\n",
    "            obs1, obs2 = clust[i,:], clust[j,:]\n",
    "            res.append(euclidean_distance(obs1, obs2))\n",
    "    return np.array(res)"
   ]
  },
  {
   "cell_type": "code",
   "execution_count": null,
   "metadata": {},
   "outputs": [],
   "source": [
    "# Slot spikes into cue phase intervals for each trial\n",
    "spikecounts_per_trial = spike_counts_per_observation(cue_intervals, spike_times)\n",
    "\n",
    "# Group cue phase spikes according to goal\n",
    "responses_per_goal = group_by_goal(spikecounts_per_trial, trial_markers)\n",
    "\n",
    "# Number of responses per goal\n",
    "num_responses_per_goal = list(map(lambda arr: arr.shape[0], responses_per_goal))\n",
    "\n",
    "# Some important constants\n",
    "num_goals = 6\n",
    "num_cells = len(cell_labels)"
   ]
  },
  {
   "cell_type": "code",
   "execution_count": null,
   "metadata": {},
   "outputs": [],
   "source": [
    "# Create 2D list to store results of all pairwise distances between goals\n",
    "pairwise_distances_goal = [[np.array([]) for _ in range(num_goals)] for _ in range(num_goals)]\n",
    "mean_distances_goal = np.empty((num_goals, num_goals))\n",
    "for i in range(num_goals):\n",
    "    for j in range(i, num_goals):\n",
    "        group1, group2 = responses_per_goal[i], responses_per_goal[j]\n",
    "        if i == j:\n",
    "            distances = pairwise_distances_within(group1)\n",
    "            pairwise_distances_goal[i][i] = distances\n",
    "            mean_distances_goal[i,i] = np.mean(distances)\n",
    "        else:\n",
    "            distances = pairwise_distances_between(group1, group2)\n",
    "            pairwise_distances_goal[i][j] = distances\n",
    "            pairwise_distances_goal[j][i] = pairwise_distances_goal[i][j]\n",
    "            mean_distances_goal[i,j] = np.mean(distances)\n",
    "            mean_distances_goal[j,i] = mean_distances_goal[i,j]"
   ]
  },
  {
   "attachments": {},
   "cell_type": "markdown",
   "metadata": {},
   "source": [
    "PCA Dimensionality Reduction"
   ]
  },
  {
   "cell_type": "code",
   "execution_count": null,
   "metadata": {},
   "outputs": [],
   "source": [
    "# Perform PCA on the dataset\n",
    "from sklearn.decomposition import PCA\n",
    "\n",
    "pca = PCA()\n",
    "pcs_per_trial = pca.fit_transform(spikecounts_per_trial)\n",
    "\n",
    "plt.figure()\n",
    "plt.title('Scree Plot')\n",
    "plt.plot(np.arange(pca.n_components_), pca.explained_variance_ratio_, 'o-')\n",
    "plt.xticks(np.arange(pca.n_components_), labels=np.arange(1, pca.n_components_+1))\n",
    "plt.xlabel('Principal Components')\n",
    "plt.ylabel('Explained Variance')\n",
    "plt.show()"
   ]
  },
  {
   "cell_type": "code",
   "execution_count": null,
   "metadata": {},
   "outputs": [],
   "source": [
    "cumulative_variance_explained = np.cumsum(pca.explained_variance_ratio_)\n",
    "\n",
    "plt.figure()\n",
    "plt.title('Proportion of variance explained')\n",
    "plt.plot(np.arange(pca.n_components_), cumulative_variance_explained, 'o-')\n",
    "plt.axhline(y=0.8, color='r', linestyle='--', linewidth=1)\n",
    "plt.xticks(np.arange(pca.n_components_), labels=np.arange(1, pca.n_components_+1))\n",
    "plt.xlabel('Principal Components')\n",
    "plt.ylabel('% Variance Explained')\n",
    "plt.show()"
   ]
  },
  {
   "cell_type": "code",
   "execution_count": null,
   "metadata": {},
   "outputs": [],
   "source": [
    "pca = PCA(0.8)\n",
    "pcs_per_trial = pca.fit_transform(spikecounts_per_trial)\n",
    "responses_per_goal_pca = group_by_goal(pcs_per_trial, trial_markers)\n",
    "\n",
    "# Create 2D list to store results of all pairwise distances between goals\n",
    "pairwise_distances_goal_pca = [[np.array([]) for _ in range(num_goals)] for _ in range(num_goals)]\n",
    "mean_distances_goal_pca = np.empty((num_goals, num_goals))\n",
    "for i in range(num_goals):\n",
    "    for j in range(i, num_goals):\n",
    "        group1, group2 = responses_per_goal_pca[i], responses_per_goal_pca[j]\n",
    "        if i == j:\n",
    "            distances = pairwise_distances_within(group1)\n",
    "            pairwise_distances_goal_pca[i][i] = distances\n",
    "            mean_distances_goal_pca[i,i] = np.mean(distances)\n",
    "        else:\n",
    "            distances = pairwise_distances_between(group1, group2)\n",
    "            pairwise_distances_goal_pca[i][j] = distances\n",
    "            pairwise_distances_goal_pca[j][i] = pairwise_distances_goal_pca[i][j]\n",
    "            mean_distances_goal_pca[i,j] = np.mean(distances)\n",
    "            mean_distances_goal_pca[j,i] = mean_distances_goal_pca[i,j]\n",
    "\n",
    "num_pcs = pcs_per_trial.shape[1]\n",
    "print(f'Number of principal components used: {num_pcs}')"
   ]
  },
  {
   "attachments": {},
   "cell_type": "markdown",
   "metadata": {},
   "source": [
    "LDA Transformation"
   ]
  },
  {
   "cell_type": "code",
   "execution_count": null,
   "metadata": {},
   "outputs": [],
   "source": [
    "from sklearn.discriminant_analysis import LinearDiscriminantAnalysis\n",
    "\n",
    "lda = LinearDiscriminantAnalysis()\n",
    "lda.fit(spikecounts_per_trial, trial_markers)\n",
    "lda_space_per_trial = lda.transform(spikecounts_per_trial)\n",
    "responses_per_goal_lda = group_by_goal(lda_space_per_trial, trial_markers)\n",
    "\n",
    "# Create 2D list to store results of all pairwise distances between goals\n",
    "pairwise_distances_goal_lda = [[np.array([]) for _ in range(num_goals)] for _ in range(num_goals)]\n",
    "mean_distances_goal_lda = np.empty((num_goals, num_goals))\n",
    "for i in range(num_goals):\n",
    "    for j in range(i, num_goals):\n",
    "        group1, group2 = responses_per_goal_lda[i], responses_per_goal_lda[j]\n",
    "        if i == j:\n",
    "            distances = pairwise_distances_within(group1)\n",
    "            pairwise_distances_goal_lda[i][i] = distances\n",
    "            mean_distances_goal_lda[i,i] = np.mean(distances)\n",
    "        else:\n",
    "            distances = pairwise_distances_between(group1, group2)\n",
    "            pairwise_distances_goal_lda[i][j] = distances\n",
    "            pairwise_distances_goal_lda[j][i] = pairwise_distances_goal_lda[i][j]\n",
    "            mean_distances_goal_lda[i,j] = np.mean(distances)\n",
    "            mean_distances_goal_lda[j,i] = mean_distances_goal_lda[i,j]"
   ]
  },
  {
   "attachments": {},
   "cell_type": "markdown",
   "metadata": {},
   "source": [
    "Plots"
   ]
  },
  {
   "cell_type": "code",
   "execution_count": null,
   "metadata": {},
   "outputs": [],
   "source": [
    "# Plot heatmap of mean distances\n",
    "plt.figure()\n",
    "ax = plt.gca()\n",
    "plt.title(f'Differences between goal responses - {day_dir}')\n",
    "plt.pcolormesh(mean_distances_goal, cmap='cool')\n",
    "plt.colorbar(label='Mean pairwise distance')\n",
    "plt.xticks(np.arange(0.5, num_goals+0.5), labels=np.arange(1, num_goals+1))\n",
    "plt.yticks(np.arange(0.5, num_goals+0.5), labels=np.arange(1, num_goals+1))\n",
    "plt.xlabel('Goal')\n",
    "plt.ylabel('Goal')\n",
    "for i, row in enumerate(mean_distances_goal):\n",
    "    for j, val in enumerate(row):\n",
    "        ax.text(j+0.5, i+0.5, f'{val:.3f}', ha='center', va='center', color='k')\n",
    "plt.show()"
   ]
  },
  {
   "cell_type": "code",
   "execution_count": null,
   "metadata": {},
   "outputs": [],
   "source": [
    "# Plot heatmap of mean distances (PCA)\n",
    "plt.figure()\n",
    "ax = plt.gca()\n",
    "plt.title(f'Differences between goal responses (PCA) - {day_dir}')\n",
    "plt.pcolormesh(mean_distances_goal_pca, cmap='cool')\n",
    "plt.colorbar(label='Mean pairwise distance')\n",
    "plt.xticks(np.arange(0.5, num_goals+0.5), labels=np.arange(1, num_goals+1))\n",
    "plt.yticks(np.arange(0.5, num_goals+0.5), labels=np.arange(1, num_goals+1))\n",
    "plt.xlabel('Goal')\n",
    "plt.ylabel('Goal')\n",
    "for i, row in enumerate(mean_distances_goal_pca):\n",
    "    for j, val in enumerate(row):\n",
    "        ax.text(j+0.5, i+0.5, f'{val:.3f}', ha='center', va='center', color='k')\n",
    "plt.show()"
   ]
  },
  {
   "cell_type": "code",
   "execution_count": null,
   "metadata": {},
   "outputs": [],
   "source": [
    "# Plot heatmap of mean distances (LDA)\n",
    "plt.figure()\n",
    "ax = plt.gca()\n",
    "plt.title(f'Differences between goal responses (LDA) - {day_dir}')\n",
    "plt.pcolormesh(mean_distances_goal_lda, cmap='cool')\n",
    "plt.colorbar(label='Mean pairwise distance')\n",
    "plt.xticks(np.arange(0.5, num_goals+0.5), labels=np.arange(1, num_goals+1))\n",
    "plt.yticks(np.arange(0.5, num_goals+0.5), labels=np.arange(1, num_goals+1))\n",
    "plt.xlabel('Goal')\n",
    "plt.ylabel('Goal')\n",
    "for i, row in enumerate(mean_distances_goal_lda):\n",
    "    for j, val in enumerate(row):\n",
    "        ax.text(j+0.5, i+0.5, f'{val:.3f}', ha='center', va='center', color='k')\n",
    "plt.show()"
   ]
  },
  {
   "cell_type": "code",
   "execution_count": null,
   "metadata": {},
   "outputs": [],
   "source": [
    "# Choose goal to plot boxplot distributions\n",
    "goal_num = 0  # 0-indexed"
   ]
  },
  {
   "cell_type": "code",
   "execution_count": null,
   "metadata": {},
   "outputs": [],
   "source": [
    "# Plot boxplot distribution of distances between one goal and the rest\n",
    "plt.figure()\n",
    "plt.title(f'Differences between goal responses - goal #{goal_num+1}, {day_dir}')\n",
    "plt.boxplot(pairwise_distances_goal[goal_num], showmeans=True, notch=True, flierprops={'marker': 'x', 'markersize': 4})\n",
    "plt.violinplot(pairwise_distances_goal[goal_num], showextrema=False)\n",
    "plt.axvline(x=goal_num+0.5, color='r', linewidth=1)\n",
    "plt.axvline(x=goal_num+1.5, color='r', linewidth=1)\n",
    "plt.xlabel('Goal')\n",
    "plt.ylabel('Pairwise distance')\n",
    "plt.show()"
   ]
  },
  {
   "cell_type": "code",
   "execution_count": null,
   "metadata": {},
   "outputs": [],
   "source": [
    "# Plot boxplot distribution of distances between one goal and the rest (PCA)\n",
    "plt.figure()\n",
    "plt.title(f'Differences between goal responses (PCA) - goal #{goal_num+1}, {day_dir}')\n",
    "plt.boxplot(pairwise_distances_goal_pca[goal_num], showmeans=True, notch=True, flierprops={'marker': 'x', 'markersize': 4})\n",
    "plt.violinplot(pairwise_distances_goal_pca[goal_num], showextrema=False)\n",
    "plt.axvline(x=goal_num+0.5, color='r', linewidth=1)\n",
    "plt.axvline(x=goal_num+1.5, color='r', linewidth=1)\n",
    "plt.xlabel('Goal')\n",
    "plt.ylabel('Pairwise distance')\n",
    "plt.show()"
   ]
  },
  {
   "cell_type": "code",
   "execution_count": null,
   "metadata": {},
   "outputs": [],
   "source": [
    "# Plot boxplot distribution of distances between one goal and the rest (LDA)\n",
    "plt.figure()\n",
    "plt.title(f'Differences between goal responses (LDA) - goal #{goal_num+1}, {day_dir}')\n",
    "plt.boxplot(pairwise_distances_goal_lda[goal_num], showmeans=True, notch=True, flierprops={'marker': 'x', 'markersize': 4})\n",
    "plt.violinplot(pairwise_distances_goal_lda[goal_num], showextrema=False)\n",
    "plt.axvline(x=goal_num+0.5, color='r', linewidth=1)\n",
    "plt.axvline(x=goal_num+1.5, color='r', linewidth=1)\n",
    "plt.xlabel('Goal')\n",
    "plt.ylabel('Pairwise distance')\n",
    "plt.show()"
   ]
  }
 ],
 "metadata": {
  "kernelspec": {
   "display_name": "decoding",
   "language": "python",
   "name": "python3"
  },
  "language_info": {
   "codemirror_mode": {
    "name": "ipython",
    "version": 3
   },
   "file_extension": ".py",
   "mimetype": "text/x-python",
   "name": "python",
   "nbconvert_exporter": "python",
   "pygments_lexer": "ipython3",
   "version": "3.10.4"
  },
  "orig_nbformat": 4
 },
 "nbformat": 4,
 "nbformat_minor": 2
}
