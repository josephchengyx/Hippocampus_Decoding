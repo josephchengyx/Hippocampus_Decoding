{
 "cells": [
  {
   "cell_type": "code",
   "execution_count": 1,
   "metadata": {},
   "outputs": [],
   "source": [
    "import os\n",
    "import numpy as np\n",
    "from scipy.io import loadmat\n",
    "import h5py\n",
    "from preproc import *\n",
    "import matplotlib.pyplot as plt"
   ]
  },
  {
   "cell_type": "code",
   "execution_count": 2,
   "metadata": {},
   "outputs": [],
   "source": [
    "# Specify which day's dataset to use\n",
    "prefix = \"/Volumes/Hippocampus/Data/picasso-misc/\"\n",
    "day_dir = \"20181102\""
   ]
  },
  {
   "cell_type": "code",
   "execution_count": 3,
   "metadata": {},
   "outputs": [],
   "source": [
    "# Get list of cells under the day directory\n",
    "os.system(f\"sh ~/Documents/neural_decoding/Hippocampus_Decoding/get_cells.sh {day_dir}\")\n",
    "cell_list = list()\n",
    "with open(\"cell_list.txt\", \"r\") as file:\n",
    "    for line in file.readlines():\n",
    "        cell_list.append(line.strip())\n",
    "os.system(\"rm cell_list.txt\")\n",
    "\n",
    "# Load data from rplparallel.mat object, extract trial markers, time stamps and session start timestamp\n",
    "rp = h5py.File(prefix + day_dir + \"/session01/rplparallel.mat\")\n",
    "rp = rp.get('rp').get('data')\n",
    "trial_markers = np.array(rp.get('markers'))\n",
    "trial_timestamps = np.array(rp.get('timeStamps'))\n",
    "session_start_time = np.round(np.array(rp.get('session_start_sec'))[0,0], 3)\n",
    "\n",
    "# Load data and extract spike times from all spiketrain.mat objects\n",
    "spike_times = list()\n",
    "cell_labels = list()\n",
    "for cell_dir in cell_list:\n",
    "    spk = loadmat(prefix + day_dir + \"/session01/\" + cell_dir + \"/spiketrain.mat\")\n",
    "    spk = spk.get('timestamps').flatten() # spike timestamps is loaded in as a column vector\n",
    "    spk = spk / 1000 # convert spike timestamps from msec to sec\n",
    "    spike_times.append(spk)\n",
    "    \n",
    "    cell_name = cell_dir.split('/')\n",
    "    array, channel, cell = cell_name[0][6:], cell_name[1][7:], cell_name[2][5:]\n",
    "    if channel[0] == '0':\n",
    "        channel = channel[1:]\n",
    "    cell_labels.append(f'a{array}/ch{channel}/c{cell}')\n",
    "\n",
    "# Load data from vmpv.mat object, extract session end timestamp\n",
    "pv = h5py.File(prefix + day_dir + \"/session01/1vmpv.mat\")\n",
    "pv = pv.get('pv').get('data')\n",
    "session_end_time = np.round(np.array(pv.get('rplmaxtime'))[0,0], 3)\n",
    "\n",
    "# Load dat from eyelink.mat object, extract fixation times, eye positions and eyelink trial timestamps\n",
    "el = h5py.File(prefix + day_dir + \"/session01/eyelink.mat\")\n",
    "el = el.get('el').get('data')\n",
    "el_trial_timestamps = np.array(el.get('trial_timestamps'))\n",
    "fix_times = np.array(el.get('fix_times'))\n",
    "eye_pos = np.array(el.get('eye_pos'))"
   ]
  },
  {
   "cell_type": "code",
   "execution_count": 4,
   "metadata": {},
   "outputs": [],
   "source": [
    "# Get poster numbers from trial markers, cue phase time intervals\n",
    "trial_markers = trial_markers[0,:] % 10\n",
    "trial_markers = trial_markers.astype(int)\n",
    "cue_intervals = trial_timestamps[0:2,:].T\n",
    "\n",
    "# Get durations of each navigation phase\n",
    "nav_intervals = trial_timestamps[1:,:].T\n",
    "nav_durations = nav_intervals[:,1] - nav_intervals[:,0]\n",
    "nav_durations = nav_durations.astype(np.int8)\n",
    "\n",
    "# Generate time intervals for each trial\n",
    "trial_intervals = np.empty_like(cue_intervals)\n",
    "trial_intervals[:,0] = cue_intervals[:,1]\n",
    "trial_intervals[:-1,1] = cue_intervals[1:,0]\n",
    "trial_intervals[-1,1] = session_end_time"
   ]
  },
  {
   "cell_type": "code",
   "execution_count": 5,
   "metadata": {},
   "outputs": [],
   "source": [
    "# Extract fixation events during trial periods that correspond with looking at the hint image\n",
    "hints_per_trial = [np.empty((0,2)) for _ in range(el_trial_timestamps.shape[1])]\n",
    "eye_x_range = (833.3, 1086.7)\n",
    "eye_y_range = (900, 1066.7)\n",
    "\n",
    "def find_floor(arr, x):\n",
    "    for i, val in enumerate(arr):\n",
    "        if x < val:\n",
    "            return i-1\n",
    "    return len(arr)-1\n",
    "    \n",
    "def find_ceil(arr, x):\n",
    "    for i, val in enumerate(arr):\n",
    "        if x <= val:\n",
    "            return i\n",
    "    return -1\n",
    "\n",
    "for idx, fix_start in enumerate(fix_times[0,:]):\n",
    "    # Check if it occurs during a trial, and which one\n",
    "    i1 = find_floor(el_trial_timestamps[1,:], fix_start)\n",
    "    i2 = find_ceil(el_trial_timestamps[2,:], fix_start)\n",
    "    if i1 == i2:\n",
    "        # Occurs during a trial\n",
    "        eye_x, eye_y = eye_pos[0,int(fix_start-1)], eye_pos[1,int(fix_start-1)]\n",
    "        if (eye_x >= eye_x_range[0] and eye_x <= eye_x_range[1]) and \\\n",
    "            (eye_y >= eye_y_range[0] and eye_y <= eye_y_range[1]):\n",
    "            fix_end = fix_times[1,idx]\n",
    "            hints_per_trial[i1] = np.vstack([hints_per_trial[i1], np.array([fix_start, fix_end]).astype(np.int64)])\n",
    "\n",
    "# Convert the eyelink time to trial time in hint occurences\n",
    "def convert_eyelink_time(trial, el_time, time, intvls):\n",
    "    res = np.empty_like(intvls)\n",
    "    for i, intvl in enumerate(intvls):\n",
    "        st, ed = intvl\n",
    "        el_st, el_ed = el_time[1:,trial]\n",
    "        t_st, t_ed = time[1:,trial]\n",
    "        res[i,0] = ((st - el_st) / (el_ed - el_st)) * (t_ed - t_st) + t_st\n",
    "        res[i,1] = ((ed - el_st) / (el_ed - el_st)) * (t_ed - t_st) + t_st\n",
    "    return res\n",
    "\n",
    "for i, trial in enumerate(hints_per_trial):\n",
    "    if trial.shape[0] > 0:\n",
    "        hints_per_trial[i] = convert_eyelink_time(i, el_trial_timestamps, trial_timestamps, trial)\n"
   ]
  },
  {
   "cell_type": "code",
   "execution_count": 6,
   "metadata": {},
   "outputs": [],
   "source": [
    "# Filter out trials that are too long (> 25 seconds) or have repeated goal from previous trial\n",
    "good_trials = np.ones(trial_markers.shape, dtype=np.int8)\n",
    "max_dur = 25  # maximum duration of trials (in seconds) to filter out\n",
    "prev_goal = 0\n",
    "for num, dur in enumerate(nav_durations):\n",
    "    curr_goal = trial_markers[num]\n",
    "    if dur > max_dur or curr_goal == prev_goal:\n",
    "        good_trials[num] = 0\n",
    "    prev_goal = curr_goal\n",
    "trial_filt = np.where(good_trials == 1)\n",
    "\n",
    "trial_markers = trial_markers[trial_filt]\n",
    "cue_intervals = cue_intervals[trial_filt,:][0]  # not sure why it adds an extra axis\n",
    "nav_durations = nav_durations[trial_filt]\n",
    "trial_intervals = trial_intervals[trial_filt]\n",
    "new_hints_per_trial = list()\n",
    "for num, trial in enumerate(hints_per_trial):\n",
    "    if good_trials[num] == 1:\n",
    "        new_hints_per_trial.append(trial)\n",
    "hints_per_trial = new_hints_per_trial"
   ]
  },
  {
   "cell_type": "code",
   "execution_count": 7,
   "metadata": {},
   "outputs": [
    {
     "name": "stdout",
     "output_type": "stream",
     "text": [
      "97\n"
     ]
    }
   ],
   "source": [
    "# Check number of fixation events per trial\n",
    "num_hints_per_trial = list(map(lambda arr: arr.shape[0], hints_per_trial))\n",
    "total_num_hints = sum(num_hints_per_trial)\n",
    "print(total_num_hints)"
   ]
  },
  {
   "cell_type": "code",
   "execution_count": 8,
   "metadata": {},
   "outputs": [
    {
     "name": "stdout",
     "output_type": "stream",
     "text": [
      "0.2342268723633108\n"
     ]
    }
   ],
   "source": [
    "# Check duration of fixation events per trial\n",
    "hint_durs = list()\n",
    "for trial in hints_per_trial:\n",
    "    for intvl in trial:\n",
    "        hint_durs.append(intvl[1] - intvl[0])\n",
    "hint_durs = np.array(hint_durs)\n",
    "print(np.mean(hint_durs))"
   ]
  },
  {
   "cell_type": "code",
   "execution_count": 9,
   "metadata": {},
   "outputs": [
    {
     "data": {
      "image/png": "[encoded data removed]",
      "text/plain": [
       "<Figure size 640x480 with 1 Axes>"
      ]
     },
     "metadata": {},
     "output_type": "display_data"
    }
   ],
   "source": [
    "# Plot duration of fixation events as a histogram\n",
    "plt.figure()\n",
    "plt.title('Duration of fixations')\n",
    "plt.hist(hint_durs, bins=50)\n",
    "plt.xlabel('Time (s)')\n",
    "plt.show()"
   ]
  },
  {
   "cell_type": "code",
   "execution_count": 10,
   "metadata": {},
   "outputs": [],
   "source": [
    "# Bin entire session into 250 ms time bins, aligned to the start of each cue phase for each trial\n",
    "session_intervals = list()\n",
    "delta = 0.25  # Size of time bin (in seconds)\n",
    "num_prds = int(1/delta)\n",
    "for idx, intvl in enumerate(trial_intervals):\n",
    "    trial_start, trial_end = intvl\n",
    "    for time in np.arange(trial_start, trial_end - delta, delta):\n",
    "        session_intervals.append(np.array([time, time + delta]))\n",
    "session_intervals = np.array(session_intervals)\n",
    "\n",
    "# Divide cue phases into 250 ms time bins\n",
    "new_cue_intervals = np.empty((cue_intervals.shape[0], cue_intervals.shape[1], num_prds))\n",
    "for num, intvl in enumerate(cue_intervals):\n",
    "    st_time, ed_time = intvl\n",
    "    for prd in range(num_prds):\n",
    "        new_cue_intervals[num,0,prd] = st_time + delta * prd\n",
    "        new_cue_intervals[num,1,prd] = st_time + delta * (prd + 1)\n",
    "full_cue_intervals = cue_intervals\n",
    "cue_intervals = new_cue_intervals"
   ]
  },
  {
   "cell_type": "code",
   "execution_count": 11,
   "metadata": {},
   "outputs": [],
   "source": [
    "# Get number of cells in dataset\n",
    "num_cells = len(cell_labels)\n",
    "\n",
    "# Slot spikes into cue phase intervals for each trial\n",
    "spikerates_cue = np.empty((cue_intervals.shape[0], num_cells, cue_intervals.shape[2]))\n",
    "for prd in range(cue_intervals.shape[2]):\n",
    "    spikerates_cue[:,:,prd] = spike_rates_per_observation(cue_intervals[:,:,prd], spike_times)\n",
    "\n",
    "# Slot spikes into session time intervals\n",
    "spikerates_session = spike_rates_per_observation(session_intervals, spike_times)\n",
    "\n",
    "# Slot spikes into hint time intervals\n",
    "spikerates_hints = [np.array([]) for _ in hints_per_trial]\n",
    "for i, trial in enumerate(hints_per_trial):\n",
    "    if trial.shape[0] > 0:\n",
    "        spikerates_hints[i] = spike_rates_per_observation(trial, spike_times)"
   ]
  },
  {
   "cell_type": "code",
   "execution_count": 12,
   "metadata": {},
   "outputs": [],
   "source": [
    "# Bin spike rates within each cell for entire sesion, and get firing rate thresholds used for binning\n",
    "binned_spikes_session = np.empty_like(spikerates_session)\n",
    "binning_stats = list()\n",
    "for col in range(spikerates_session.shape[1]):\n",
    "    binned_spikes_session[:,col] = bin_firing_rates_4(spikerates_session[:,col])\n",
    "    binning_stats.append(get_binning_stats_4(spikerates_session[:,col]))\n",
    "\n",
    "# Bin spike rates within each cell for cue phases\n",
    "binned_spikes_cue = np.empty_like(spikerates_cue)\n",
    "for prd in range(spikerates_cue.shape[2]):\n",
    "    for col in range(spikerates_cue.shape[1]):\n",
    "        binned_spikes_cue[:,col,prd] = bin_firing_rates_4(spikerates_cue[:,col,prd], stats=binning_stats[col])\n",
    "\n",
    "# Bin spike rates within each cell for hint periods\n",
    "binned_spikes_hints = [np.empty_like(arr) for arr in spikerates_hints]\n",
    "for i, trial in enumerate(spikerates_hints):\n",
    "    if trial.shape[0] > 0:\n",
    "        for col in range(num_cells):\n",
    "            binned_spikes_hints[i][:,col] = bin_firing_rates_4(trial[:,col], stats=binning_stats[col])"
   ]
  },
  {
   "cell_type": "code",
   "execution_count": 13,
   "metadata": {},
   "outputs": [],
   "source": [
    "def group_by_goal(timeseries: np.array, goals: np.array) -> list:\n",
    "    num_goals = 6\n",
    "    grouped = [np.empty((0, timeseries.shape[1])) for _ in range(num_goals)]\n",
    "    for idx, goal in enumerate(goals):\n",
    "        goal = int(goal - 1)\n",
    "        grouped[goal] = np.vstack((grouped[goal], timeseries[idx,:]))\n",
    "    return grouped\n",
    "\n",
    "# Group cue phase spikes according to goal\n",
    "num_goals = 6\n",
    "responses_per_goal = [np.empty((0, num_cells)) for _ in range(num_goals)]\n",
    "for prd in range(binned_spikes_cue.shape[2]):\n",
    "    responses = group_by_goal(binned_spikes_cue[:,:,prd], trial_markers)\n",
    "    for i, goal in enumerate(responses):\n",
    "        responses_per_goal[i] = np.vstack([responses_per_goal[i], goal])"
   ]
  },
  {
   "cell_type": "code",
   "execution_count": 14,
   "metadata": {},
   "outputs": [],
   "source": [
    "# Format data into X and y matrices\n",
    "cue_responses_binned = np.empty((binned_spikes_cue.shape[0]*binned_spikes_cue.shape[2], binned_spikes_cue.shape[1]))\n",
    "cue_markers = np.empty(cue_responses_binned.shape[0])\n",
    "for i in range(binned_spikes_cue.shape[0]):\n",
    "    for k in range(binned_spikes_cue.shape[2]):\n",
    "        cue_responses_binned[binned_spikes_cue.shape[2]*i+k,:] = binned_spikes_cue[i,:,k]\n",
    "        cue_markers[binned_spikes_cue.shape[2]*i+k] = trial_markers[i]\n",
    "\n",
    "cue_responses_raw = np.empty((spikerates_cue.shape[0]*spikerates_cue.shape[2], spikerates_cue.shape[1]))\n",
    "for i in range(spikerates_cue.shape[0]):\n",
    "    for k in range(spikerates_cue.shape[2]):\n",
    "        cue_responses_raw[spikerates_cue.shape[2]*i+k,:] = spikerates_cue[i,:,k]"
   ]
  },
  {
   "cell_type": "code",
   "execution_count": 15,
   "metadata": {},
   "outputs": [],
   "source": [
    "def train_test_split(X: np.array, y: np.array, split: tuple) -> tuple:\n",
    "    # itr: current iteration of k-fold validation\n",
    "    # way: value of k in k-fold validation\n",
    "    itr, way = split\n",
    "    X_train, X_test = list(), list()\n",
    "    y_train, y_test = list(), list()\n",
    "    for num, obs in enumerate(X):\n",
    "        if num % way == itr:\n",
    "            X_test.append(obs)\n",
    "            y_test.append(y[num])\n",
    "        else:\n",
    "            X_train.append(obs)\n",
    "            y_train.append(y[num])\n",
    "    # Return format: X_train, X_test, y_train, y_test   \n",
    "    return np.array(X_train), np.array(X_test), np.array(y_train), np.array(y_test)\n",
    "\n",
    "def prediction_accuracy(y_pred: np.array, y_actl: np.array) -> float:\n",
    "    count, total = 0, y_actl.shape[0]\n",
    "    for num, obs in enumerate(y_pred):\n",
    "        if obs == y_actl[num]:\n",
    "            count += 1\n",
    "    return count / total\n",
    "\n",
    "def confusion_matrix(y_pred: np.array, y_actl: np.array, res: np.array) -> np.array:\n",
    "    for pred, actl in zip(y_pred, y_actl):\n",
    "        pred, actl = int(pred - 1), int(actl - 1)\n",
    "        res[pred, actl] += 1\n",
    "    return res"
   ]
  },
  {
   "cell_type": "code",
   "execution_count": 16,
   "metadata": {},
   "outputs": [
    {
     "name": "stdout",
     "output_type": "stream",
     "text": [
      "0.18962423592245375\n"
     ]
    }
   ],
   "source": [
    "# Build decoder for 6+1 classes\n",
    "from sklearn.discriminant_analysis import LinearDiscriminantAnalysis\n",
    "# LDA, binned\n",
    "k_fold = 10\n",
    "prob_mins = np.zeros(k_fold)\n",
    "accuracies = np.zeros(k_fold)\n",
    "conf_mat = np.zeros((num_goals, num_goals))\n",
    "for i in range(k_fold):\n",
    "    X_train, X_test, y_train, y_test = train_test_split(cue_responses_binned, cue_markers, (i, k_fold))\n",
    "    lda = LinearDiscriminantAnalysis()\n",
    "    lda.fit(X_train, y_train)\n",
    "    y_pred = lda.predict(X_test)\n",
    "    y_pred_proba = lda.predict_proba(X_test)\n",
    "    y_pred_proba = np.max(y_pred_proba, axis=1)\n",
    "    prob_mins[i] = np.min(y_pred_proba)\n",
    "    accuracies[i] = prediction_accuracy(y_pred, y_test)\n",
    "    conf_mat = confusion_matrix(y_pred, y_test, conf_mat)\n",
    "\n",
    "prob_thresh = np.mean(prob_mins)\n",
    "print(prob_thresh)"
   ]
  },
  {
   "cell_type": "code",
   "execution_count": 17,
   "metadata": {},
   "outputs": [
    {
     "name": "stdout",
     "output_type": "stream",
     "text": [
      "0.1905987257691928\n"
     ]
    }
   ],
   "source": [
    "from sklearn.svm import SVC\n",
    "# SVM, binned\n",
    "k_fold = 10\n",
    "prob_mins2 = np.zeros(k_fold)\n",
    "accuracies2 = np.zeros(k_fold)\n",
    "conf_mat2 = np.zeros((num_goals, num_goals))\n",
    "for i in range(k_fold):\n",
    "    X_train, X_test, y_train, y_test = train_test_split(cue_responses_binned, cue_markers, (i, k_fold))\n",
    "    svm = SVC(probability=True)\n",
    "    svm.fit(X_train, y_train)\n",
    "    y_pred = svm.predict(X_test)\n",
    "    y_pred_proba = svm.predict_proba(X_test)\n",
    "    y_pred_proba = np.max(y_pred_proba, axis=1)\n",
    "    prob_mins2[i] = np.min(y_pred_proba)\n",
    "    accuracies2[i] = prediction_accuracy(y_pred, y_test)\n",
    "    conf_mat2 = confusion_matrix(y_pred, y_test, conf_mat2)\n",
    "\n",
    "prob_thresh2 = np.mean(prob_mins2)\n",
    "print(prob_thresh2)"
   ]
  },
  {
   "cell_type": "code",
   "execution_count": 18,
   "metadata": {},
   "outputs": [
    {
     "name": "stdout",
     "output_type": "stream",
     "text": [
      "0.20060292814710187\n"
     ]
    }
   ],
   "source": [
    "# LDA, raw counts\n",
    "k_fold = 10\n",
    "prob_mins3 = np.zeros(k_fold)\n",
    "accuracies3 = np.zeros(k_fold)\n",
    "conf_mat3 = np.zeros((num_goals, num_goals))\n",
    "for i in range(k_fold):\n",
    "    X_train, X_test, y_train, y_test = train_test_split(cue_responses_raw, cue_markers, (i, k_fold))\n",
    "    lda = LinearDiscriminantAnalysis()\n",
    "    lda.fit(X_train, y_train)\n",
    "    y_pred = lda.predict(X_test)\n",
    "    y_pred_proba = lda.predict_proba(X_test)\n",
    "    y_pred_proba = np.max(y_pred_proba, axis=1)\n",
    "    prob_mins3[i] = np.min(y_pred_proba)\n",
    "    accuracies3[i] = prediction_accuracy(y_pred, y_test)\n",
    "    conf_mat3 = confusion_matrix(y_pred, y_test, conf_mat3)\n",
    "\n",
    "prob_thresh3 = np.mean(prob_mins3)\n",
    "print(prob_thresh3)"
   ]
  },
  {
   "cell_type": "code",
   "execution_count": 19,
   "metadata": {},
   "outputs": [
    {
     "name": "stdout",
     "output_type": "stream",
     "text": [
      "0.19223615622799853\n"
     ]
    }
   ],
   "source": [
    "# SVM, raw counts\n",
    "k_fold = 10\n",
    "prob_mins4 = np.zeros(k_fold)\n",
    "accuracies4 = np.zeros(k_fold)\n",
    "conf_mat4 = np.zeros((num_goals, num_goals))\n",
    "for i in range(k_fold):\n",
    "    X_train, X_test, y_train, y_test = train_test_split(cue_responses_raw, cue_markers, (i, k_fold))\n",
    "    svm = SVC(probability=True)\n",
    "    svm.fit(X_train, y_train)\n",
    "    y_pred = svm.predict(X_test)\n",
    "    y_pred_proba = svm.predict_proba(X_test)\n",
    "    y_pred_proba = np.max(y_pred_proba, axis=1)\n",
    "    prob_mins4[i] = np.min(y_pred_proba)\n",
    "    accuracies4[i] = prediction_accuracy(y_pred, y_test)\n",
    "    conf_mat4 = confusion_matrix(y_pred, y_test, conf_mat4)\n",
    "\n",
    "prob_thresh4 = np.mean(prob_mins4)\n",
    "print(prob_thresh4)"
   ]
  },
  {
   "cell_type": "code",
   "execution_count": 20,
   "metadata": {},
   "outputs": [
    {
     "data": {
      "image/png": "[encoded data removed]",
      "text/plain": [
       "<Figure size 640x480 with 1 Axes>"
      ]
     },
     "metadata": {},
     "output_type": "display_data"
    }
   ],
   "source": [
    "# Plot variance in prediciton accuracy between different folds\n",
    "plt.figure()\n",
    "plt.title('Goal decoding accuracy, cue phase (full 1s)')\n",
    "plt.boxplot([accuracies, accuracies2, accuracies3, accuracies4], showmeans=True, notch=True)\n",
    "plt.xticks(np.arange(1, 5), labels=['LDA, binned', 'SVM, binned', 'LDA, raw rates', 'SVM, raw rates'])\n",
    "plt.ylabel('Accuracy')\n",
    "plt.show()"
   ]
  },
  {
   "cell_type": "code",
   "execution_count": 21,
   "metadata": {},
   "outputs": [
    {
     "data": {
      "image/png": "[encoded data removed]",
      "text/plain": [
       "<Figure size 640x480 with 2 Axes>"
      ]
     },
     "metadata": {},
     "output_type": "display_data"
    }
   ],
   "source": [
    "# Plot confusion matrix\n",
    "# Convert counts to proportion of predictions\n",
    "conf_mat_title = 'LDA, raw counts'  # Select which confusion matrix to plot\n",
    "conf_mat_plot = conf_mat3\n",
    "num_goals = conf_mat_plot.shape[0]\n",
    "col_sums = np.sum(conf_mat_plot, axis=0)\n",
    "conf_mat_prop = np.empty_like(conf_mat_plot)\n",
    "for col, val in enumerate(col_sums):\n",
    "    conf_mat_prop[:,col] = conf_mat_plot[:,col] / val\n",
    "\n",
    "plt.figure()\n",
    "ax = plt.gca()\n",
    "plt.title(conf_mat_title)\n",
    "plt.imshow(conf_mat_prop, cmap='cool', vmin=0, vmax=1)\n",
    "plt.colorbar(label='Proportion of hits')\n",
    "plt.xticks(np.arange(num_goals), labels=np.arange(1, num_goals+1))\n",
    "plt.yticks(np.arange(num_goals), labels=np.arange(1, num_goals+1))\n",
    "plt.tick_params(top=True, labeltop=True, bottom=False, labelbottom=False)\n",
    "plt.xlabel('Actual goal')\n",
    "plt.ylabel('Predicted goal')\n",
    "ax.xaxis.set_label_position('top')\n",
    "for i, row in enumerate(conf_mat_plot):\n",
    "    for j, val in enumerate(row):\n",
    "        ax.text(j, i, f'{val:.0f}', ha='center', va='center', color='k')"
   ]
  },
  {
   "cell_type": "code",
   "execution_count": 22,
   "metadata": {},
   "outputs": [],
   "source": [
    "class ResponseClassifier():\n",
    "    def __init__(self, model):\n",
    "        self.model = model\n",
    "\n",
    "    def fit(self, X, y, thresh):\n",
    "        self.model.fit(X, y)\n",
    "        self.thresh = thresh\n",
    "\n",
    "    def predict(self, X):\n",
    "        classes = self.model.predict(X)\n",
    "        probs = self.model.predict_proba(X)\n",
    "        filt = np.where(np.max(probs, axis=1) < self.thresh)\n",
    "        classes[filt] = 0\n",
    "        return classes"
   ]
  },
  {
   "cell_type": "code",
   "execution_count": 23,
   "metadata": {},
   "outputs": [],
   "source": [
    "model_binned = ResponseClassifier(LinearDiscriminantAnalysis())\n",
    "model_binned.fit(cue_responses_binned, cue_markers, prob_thresh)\n",
    "\n",
    "hint_preds_binned = list()\n",
    "for trial in binned_spikes_hints:\n",
    "    if trial.shape[0] > 0:\n",
    "        hint_preds_binned.append(model_binned.predict(trial))\n",
    "    else:\n",
    "        hint_preds_binned.append(trial)"
   ]
  },
  {
   "cell_type": "code",
   "execution_count": 24,
   "metadata": {},
   "outputs": [],
   "source": [
    "model_raw = ResponseClassifier(LinearDiscriminantAnalysis())\n",
    "model_raw.fit(cue_responses_raw, cue_markers, prob_thresh3)\n",
    "\n",
    "hint_preds_raw = list()\n",
    "for trial in spikerates_hints:\n",
    "    if trial.shape[0] > 0:\n",
    "        hint_preds_raw.append(model_raw.predict(trial))\n",
    "    else:\n",
    "        hint_preds_raw.append(trial)"
   ]
  }
 ],
 "metadata": {
  "kernelspec": {
   "display_name": "decoding",
   "language": "python",
   "name": "python3"
  },
  "language_info": {
   "codemirror_mode": {
    "name": "ipython",
    "version": 3
   },
   "file_extension": ".py",
   "mimetype": "text/x-python",
   "name": "python",
   "nbconvert_exporter": "python",
   "pygments_lexer": "ipython3",
   "version": "3.10.4"
  },
  "orig_nbformat": 4
 },
 "nbformat": 4,
 "nbformat_minor": 2
}
